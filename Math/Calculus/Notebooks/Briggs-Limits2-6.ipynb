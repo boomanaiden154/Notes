{
 "cells": [
  {
   "cell_type": "markdown",
   "id": "8b623b56",
   "metadata": {},
   "source": [
    "# 2.6 Continuity"
   ]
  },
  {
   "cell_type": "markdown",
   "id": "35aeffd9",
   "metadata": {},
   "source": [
    "**13-20. Continuity at a point** *Determine whether the following functions are continuous at $a$. Use the continuity checklist to justify your answer.*"
   ]
  },
  {
   "cell_type": "markdown",
   "id": "d0a1a1ba",
   "metadata": {},
   "source": [
    "13. $$f(x)=\\frac{2x^2+3x+1}{x^2+5x}; a=5$$"
   ]
  },
  {
   "cell_type": "markdown",
   "id": "7c333e38",
   "metadata": {},
   "source": [
    "Continuity checklist:\n",
    "1. $f(x)$ exists\n",
    "$$\\frac{2(5)^2+3(5)+1}{(5)^2+5(5)}=\\frac{66}{30}=\\frac{11}{5}$$\n",
    "2. $\\lim_{x\\to a}f(x)$ exists\n",
    "$$\\lim_{x\\to a}\\frac{2x^2+3x+1}{x^2+5x}=\\frac{2(5)^2+3(5)+1}{(5)^2+5(5)}=\\frac{11}{5}$$\n",
    "Assuming that the denominator is not $0$ and there is not a removable discontinuity at $a$.\n",
    "3. $\\lim_{x\\to a}f(x)=f(x)$\n",
    "$$\\frac{11}{5}=\\frac{11}{5}$$"
   ]
  },
  {
   "cell_type": "markdown",
   "id": "3eb2beff",
   "metadata": {},
   "source": [
    "14. $$f(x)=\\frac{2x^2+3x+1}{x^2+5x};a=-5$$"
   ]
  },
  {
   "cell_type": "markdown",
   "id": "2652bc24",
   "metadata": {},
   "source": [
    "Continuity checklist:\n",
    "1. $f(x)$ exists\n",
    "$$\\frac{2(-5)^2+3(-5)+1}{(-5)^2+5(-5)}=\\frac{36}{0}$$\n",
    "$f(x)$ fails to meet the first criterion of the continuity checklist at $a=-5$ and is thus not continuous at that point."
   ]
  },
  {
   "cell_type": "markdown",
   "id": "9479ad97",
   "metadata": {},
   "source": [
    "15. $$f(x)=\\sqrt{x-2}; a=1$$"
   ]
  },
  {
   "cell_type": "markdown",
   "id": "49e7d3f7",
   "metadata": {},
   "source": [
    "Continuity checklist:\n",
    "1. $f(x)$ exists\n",
    "$$f(1)=\\sqrt{1-2}=\\sqrt{-1}$$\n",
    "The function does not produce a real output at $a=1$ and thus the function fails to meet the first criterion of the continuity checklist and is not continous at $a=1$."
   ]
  },
  {
   "cell_type": "markdown",
   "id": "8d2aa0bf",
   "metadata": {},
   "source": [
    "16. $$g(x)=\\frac{1}{x-3};a=3$$"
   ]
  },
  {
   "cell_type": "markdown",
   "id": "bc3eeb69",
   "metadata": {},
   "source": [
    "1. $g(x)$ exists\n",
    "$$g(3)=\\frac{1}{3-3}=\\frac{1}{0}$$\n",
    "$g(x)$ does not exist at $a=3$ and thus it fails to meet the first criterion of the continuity checklist and is not continuous at $a=3$."
   ]
  },
  {
   "cell_type": "markdown",
   "id": "5d1f9838",
   "metadata": {},
   "source": [
    "17.\n",
    "$$\n",
    "f(x)=\n",
    "\\begin{cases}\n",
    "\\frac{x^2-1}{x-1} \\text{if $x \\ne 1$}\\\\\n",
    "3 \\text{if $x = 1$}\n",
    "\\end{cases}\n",
    ";a=1\n",
    "$$"
   ]
  },
  {
   "cell_type": "markdown",
   "id": "996b922d",
   "metadata": {},
   "source": [
    "1. $f(x)$ exists\n",
    "$$f(1)=3$$\n",
    "Using the second case in the piecewise definition\n",
    "2. $\\lim_{x\\to a}f(x)$ exists\n",
    "$$\\lim_{x\\to a}f(x)=\\lim_{x\\to a}\\frac{x^2-1}{x-1}=\\lim_{x\\to a}\\frac{(x+1)(x-1)}{x-1}=\\lim_{x\\to a}(x+1)=2$$\n",
    "3. $f(a)=\\lim_{x\\to a}f(x)$\n",
    "$$3\\ne2$$\n",
    "The third criterion of the continuity checklist fails and thus the function is not continuous at $a=1$."
   ]
  },
  {
   "cell_type": "markdown",
   "id": "e9395b65",
   "metadata": {},
   "source": [
    "**21-26. Continuity on intervals** *Use Theorem 2.9 to determine the intervals on which the following functions are continuous.*"
   ]
  },
  {
   "cell_type": "markdown",
   "id": "e472c60d",
   "metadata": {},
   "source": [
    "**Theorem 2.9**\n",
    "1. A polynomial function is continuous for all $x$\n",
    "2. A rational function (a function of the form $\\frac{p}{q}$, where $p$ and $q$ are polynomials) is continuous for all $x$ for which $q(x)\\ne0$"
   ]
  },
  {
   "cell_type": "markdown",
   "id": "81241b10",
   "metadata": {},
   "source": [
    "21. $$p(x)=4x^5-3x^2+1$$"
   ]
  },
  {
   "cell_type": "markdown",
   "id": "b3552926",
   "metadata": {},
   "source": [
    "$p(x)$ is a polynomial function and thus by using point 1 of Theorem 2.9, it is continous for all $x$ in $\\mathbb{R}$."
   ]
  },
  {
   "cell_type": "markdown",
   "id": "798a608c",
   "metadata": {},
   "source": [
    "22. $$g(x)=\\frac{3x^2-6x+7}{x^2+x+1}$$"
   ]
  },
  {
   "cell_type": "markdown",
   "id": "c2eebea9",
   "metadata": {},
   "source": [
    "$g(x)$ is a rational function and thus point 2 of Theorem 2.9 must be used. This means that we need to know when the denominator is equal to zero. Using the quadratic formula to find the zeros of $x^2+x+1$ yields:\n",
    "$$\\frac{-1\\pm\\sqrt{1-4(1)(1)}}{2}=\\frac{-1\\pm\\sqrt{-3}}{2}$$\n",
    "Both of these solutions are complex and there are no real zeros for the denominator of this function. Thus $g(x)$ is continuous for all $x$ in $\\mathbb{R}$."
   ]
  },
  {
   "cell_type": "markdown",
   "id": "a430c8ed",
   "metadata": {},
   "source": [
    "**57-62. Applying the Intermediate Value Theorem**\n",
    "1. *Use the Intermediate Value Theorem to show that the following equations have a solution on the given interval*\n",
    "2. *Use a graphing utility to find all the solutions to the equation on the given interval.*\n",
    "3. *Illustrate your answers with an appropriate graph.*"
   ]
  },
  {
   "cell_type": "markdown",
   "id": "4526511e",
   "metadata": {},
   "source": [
    "57. $$2x^3+x-2=0; (-1,1)$$"
   ]
  }
 ],
 "metadata": {
  "kernelspec": {
   "display_name": "Python 3 (ipykernel)",
   "language": "python",
   "name": "python3"
  },
  "language_info": {
   "codemirror_mode": {
    "name": "ipython",
    "version": 3
   },
   "file_extension": ".py",
   "mimetype": "text/x-python",
   "name": "python",
   "nbconvert_exporter": "python",
   "pygments_lexer": "ipython3",
   "version": "3.9.9"
  }
 },
 "nbformat": 4,
 "nbformat_minor": 5
}
