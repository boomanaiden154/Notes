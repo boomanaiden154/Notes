{
 "cells": [
  {
   "cell_type": "markdown",
   "id": "01d7b555",
   "metadata": {},
   "source": [
    "# 2.3 Techniques for Computing Limits"
   ]
  },
  {
   "cell_type": "markdown",
   "id": "783ceb87",
   "metadata": {},
   "source": [
    "### Limit Laws\n",
    "1. Sum Law\n",
    "$$\\lim_{x\\to a}(f(x)+g(x))=\\lim_{x\\to a}f(x)+\\lim_{x\\to a}g(x)$$\n",
    "2. Difference Law\n",
    "$$\\lim_{x\\to a}(f(x)-g(x))=\\lim_{x\\to a}f(x)-\\lim_{x\\to a}g(x)$$\n",
    "3. Constant Multiple Law\n",
    "$$\\lim_{x\\to a}(cf(x))=c\\lim_{x\\to a}f(x)$$\n",
    "4. Product Law\n",
    "$$\\lim_{x\\to a}(f(x)g(x))=\\left(\\lim_{x\\to a}f(x)\\right)\\left(\\lim_{x\\to a}g(x)\\right)$$\n",
    "5. Quotient Law\n",
    "$$\\lim_{x\\to a}\\left(\\frac{f(x)}{g(x)}\\right)=\\frac{\\lim_{x\\to a}f(x)}{\\lim_{x\\to a}g(x)}$$\n",
    "Requires that $\\lim_{x\\to a}g(x)\\ne0$.\n",
    "6. Power Law\n",
    "$$\\lim_{x\\to a}(f(x))^n=\\left(\\lim_{x\\to a}f(x)\\right)^n$$\n",
    "7. Fractional power law\n",
    "$$\\lim_{x\\to a}(f(x))^{\\frac{n}{m}}=\\left(\\lim_{x\\to a}f(x)\\right)^{\\frac{n}{m}}$$"
   ]
  },
  {
   "cell_type": "markdown",
   "id": "193745e0",
   "metadata": {},
   "source": [
    "1. How is $\\lim_{x\\to a}f(x)$ calculated if $f$ is a polynomial function?"
   ]
  },
  {
   "cell_type": "markdown",
   "id": "f5d8fe80",
   "metadata": {},
   "source": [
    "Through direct substitution."
   ]
  },
  {
   "cell_type": "markdown",
   "id": "75bcc5b4",
   "metadata": {},
   "source": [
    "2. How are $\\lim_{x\\to a^-}f(x)$ and $\\lim_{x\\to a^+}f(x)$ calculated if $f$ is a polynomial function?"
   ]
  },
  {
   "cell_type": "markdown",
   "id": "b5457441",
   "metadata": {},
   "source": [
    "Through direct substitution."
   ]
  },
  {
   "cell_type": "markdown",
   "id": "9436ddbf",
   "metadata": {},
   "source": [
    "3. For what values of $a$ does $\\lim_{x\\to a}r(x)=r(a)$ if $r$ is a rational function?"
   ]
  },
  {
   "cell_type": "markdown",
   "id": "5a8d0b62",
   "metadata": {},
   "source": [
    "For all values of $x$ such that the denominator of $r(x)$ does not equal $0$."
   ]
  },
  {
   "cell_type": "markdown",
   "id": "28d8a7aa",
   "metadata": {},
   "source": [
    "4. Assume $\\lim_{x\\to 3}g(x)=4$ and $f(x)=g(x)$ whenever $x\\ne3$. Evaluate $\\lim_{x\\to3}f(x)$, if possible."
   ]
  },
  {
   "cell_type": "markdown",
   "id": "38d6e12f",
   "metadata": {},
   "source": [
    "4"
   ]
  },
  {
   "cell_type": "markdown",
   "id": "82321964",
   "metadata": {},
   "source": [
    "5. Explain why $\\lim_{x\\to3}\\frac{x^2-7x+12}{x-3}=\\lim_{x\\to3}(x-4)$"
   ]
  },
  {
   "cell_type": "markdown",
   "id": "f62bcb2d",
   "metadata": {},
   "source": [
    "$$\\frac{x^2-7x+12}{x-3}=\\frac{(x-4)(x-3)}{x-3}=(x-4)$$\n",
    "The limits are able to equal each other here because the discontinuity at $x=3$ is a removable discontinuity and only produces a hole in the graph, meaning that the function is undefined at that point, but the limit still exists."
   ]
  },
  {
   "cell_type": "markdown",
   "id": "9f313ddc",
   "metadata": {},
   "source": [
    "6. If $\\lim_{x\\to2}f(x)=-8$, find $\\lim_{x\\to2}(f(x))^{\\frac{2}{3}}$."
   ]
  },
  {
   "cell_type": "markdown",
   "id": "e19024f7",
   "metadata": {},
   "source": [
    "$$\\lim_{x\\to2}(f(x))^{\\frac{2}{3}}=(\\lim_{x\\to2}f(x))^{\\frac{2}{3}}=(-8)^{\\frac{2}{3}}=\\sqrt[^3]{8^2}=4$$"
   ]
  },
  {
   "cell_type": "markdown",
   "id": "2c550629",
   "metadata": {},
   "source": [
    "7. Suppose $p$ and $q$ are polynomials. If $\\lim_{x\\to0}\\frac{p(x)}{q(x)}=10$ and $q(0)=2$, find $p(0)$."
   ]
  },
  {
   "cell_type": "markdown",
   "id": "028e4814",
   "metadata": {},
   "source": [
    "By the quotient rule, we have:\n",
    "$$\\frac{\\lim_{x\\to0}p(x)}{\\lim_{x\\to0}q(x)}$$\n",
    "We can know that $\\lim_{x\\to0}q(x)=2$ as for all polynomial functions $f$, $\\lim_{x\\to a}f(a)=f(a)$. This also means that $\\lim_{x\\to0}p(x)=p(x)$. Substituting in gives us:\n",
    "$$\\frac{p(0)}{q(0)}=\\frac{p(0)}{2}=10$$\n",
    "By simplyifing further we get that:\n",
    "$$p(0)=20$$"
   ]
  },
  {
   "cell_type": "markdown",
   "id": "aec73836",
   "metadata": {},
   "source": [
    "8. Suppose $\\lim_{x\\to2}f(x)=\\lim_{x\\to2}h(x)=5$. Find $\\lim_{x\\to2}g(x)$, where $f(x)\\le g(x) \\le h(x)$, for all $x$."
   ]
  },
  {
   "cell_type": "markdown",
   "id": "5243a4f3",
   "metadata": {},
   "source": [
    "The two pieces of data given in the problem, mainly that the limits of the functions $f$ and $h$ are equal to each other at $x=2$ and that $f(x) \\le g(x) \\le h(x)$ for all $x$ satisy the two conditions of the squeeze theorem. By the squeeze theorem, $\\lim{x\\to 2}g(x)=5$."
   ]
  },
  {
   "cell_type": "markdown",
   "id": "d0b6818f",
   "metadata": {},
   "source": [
    "9. Evaluate $\\lim_{x\\to5}\\sqrt{x^2-9}$"
   ]
  },
  {
   "cell_type": "markdown",
   "id": "67f150d8",
   "metadata": {},
   "source": [
    "Rewriting in terms of fractional powers, we can use the fractional power rule:\n",
    "$$\\lim_{x\\to 5}\\sqrt{x^2-9}=\\lim_{x\\to 5}(x^2-9)^{\\frac{1}{2}}=\\left(\\lim_{x\\to 5}x^2-9\\right)^{\\frac{1}{2}}$$\n",
    "Because $x^2-9$ is a polynomial, we can evaluate the inner limit by direct substitution which gives us:\n",
    "$$\\left(\\lim_{x\\to5}25-9\\right)^{\\frac{1}{2}}=\\sqrt{16}=4$$"
   ]
  },
  {
   "cell_type": "markdown",
   "id": "49712109",
   "metadata": {},
   "source": [
    "10. Suppose\n",
    "$$f(x)=\n",
    "\\begin{cases}\n",
    "4 & \\text{if} & x\\le3 \\\\\n",
    "x+2 & \\text{if} & x\\gt3\n",
    "\\end{cases}\n",
    "$$\n",
    "Compute $\\lim_{x\\to3^-}f(x)$ and $\\lim_{x\\to3^+}f(x)$"
   ]
  },
  {
   "cell_type": "markdown",
   "id": "da034133",
   "metadata": {},
   "source": [
    "The limit that is approaching from the left hand side will be governed by the expression that is used when $x\\le3$ and the limit that is approaching from the right can be evaluated using the expression that is used when $x\\gt3$.\n",
    "$$\\lim_{x\\to3^-}f(x)=\\lim_{x\\to3^-}4$$\n",
    "$$\\lim_{x\\to3^+}f(x)=\\lim_{x\\to3^+}x+2$$\n",
    "We can evaluate the first to being four as it is a constant and the second is a polynomial so direct substituion will suffice. Fully simplifying yields:\n",
    "$$\\lim_{x\\to3^-}f(x)=4$$\n",
    "$$\\lim_{x\\to3^+}f(x)=5$$"
   ]
  },
  {
   "cell_type": "markdown",
   "id": "a08d25b7",
   "metadata": {},
   "source": [
    "**11-16. Limits of linear functions** *Evaluate the following limits.*"
   ]
  },
  {
   "cell_type": "markdown",
   "id": "50c937a4",
   "metadata": {},
   "source": [
    "11. $\\lim_{x\\to4}(3x-7)$"
   ]
  },
  {
   "cell_type": "markdown",
   "id": "83c808ee",
   "metadata": {},
   "source": [
    "As this is a polynomial, we can evaluate using direct substitution as follows:\n",
    "$$\\lim_{x\\to4}(3x-7)=3(4)-7=5$$"
   ]
  },
  {
   "cell_type": "markdown",
   "id": "71f7206d",
   "metadata": {},
   "source": [
    "12. $\\lim_{x\\to1}(-2x+5)$"
   ]
  },
  {
   "cell_type": "markdown",
   "id": "522f36ab",
   "metadata": {},
   "source": [
    "As this is also a polynomial, we can evaluate using direct substituion as follows:\n",
    "$$\\lim_{x\\to1}(-2x+5)=-2(1)+5=3$$"
   ]
  },
  {
   "cell_type": "markdown",
   "id": "fed03e62",
   "metadata": {},
   "source": [
    "13. $\\lim_{x\\to-9}(5x)$"
   ]
  },
  {
   "cell_type": "markdown",
   "id": "eaffc70c",
   "metadata": {},
   "source": [
    "$$\\lim_{x\\to-9}(5x)=5(-9)=-45$$"
   ]
  },
  {
   "cell_type": "markdown",
   "id": "9fbd08a1",
   "metadata": {},
   "source": [
    "14. $\\lim_{x\\to2}(-3x)$"
   ]
  },
  {
   "cell_type": "markdown",
   "id": "77a87035",
   "metadata": {},
   "source": [
    "$$\\lim_{x\\to2}(-3x)=-3(2)=-6$$"
   ]
  },
  {
   "cell_type": "markdown",
   "id": "d0399151",
   "metadata": {},
   "source": [
    "15. $\\lim_{x\\to6}4$"
   ]
  },
  {
   "cell_type": "markdown",
   "id": "64b9c514",
   "metadata": {},
   "source": [
    "$$\\lim_{x\\to6}4=4$$"
   ]
  },
  {
   "cell_type": "markdown",
   "id": "a5c6984a",
   "metadata": {},
   "source": [
    "16. $\\lim_{x\\to-5}\\pi$"
   ]
  },
  {
   "cell_type": "markdown",
   "id": "24e24056",
   "metadata": {},
   "source": [
    "$$\\lim_{x\\to-5}\\pi=\\pi$$"
   ]
  },
  {
   "cell_type": "markdown",
   "id": "f1c0514c",
   "metadata": {},
   "source": [
    "**17-24. Applying limit laws** *Assume $\\lim_{x\\to1}f(x)=8$, $\\lim_{x\\to1}g(x)=3$, and $\\lim_{x\\to1}h(x)=2$. Compute the following limits and state the limit laws used to justify your computations.*"
   ]
  },
  {
   "cell_type": "markdown",
   "id": "e8fffa50",
   "metadata": {},
   "source": [
    "17. $\\lim_{x\\to1}(4f(x))$"
   ]
  },
  {
   "cell_type": "markdown",
   "id": "4b5bafd1",
   "metadata": {},
   "source": [
    "Constant multiple rule:\n",
    "$$\\lim_{x\\to1}(4f(x)) = 4\\lim{x\\to1}f(x)$$\n",
    "Substiuting in the limit values:\n",
    "$$4\\cdot8=32$$"
   ]
  },
  {
   "cell_type": "markdown",
   "id": "7af0065a",
   "metadata": {},
   "source": [
    "18. $\\lim_{x\\to1}\\frac{f(x)}{h(x)}$"
   ]
  },
  {
   "cell_type": "markdown",
   "id": "08b0e10c",
   "metadata": {},
   "source": [
    "Quotient rule:\n",
    "$$\\lim_{x\\to1}\\frac{f(x)}{h(x)}=\\frac{\\lim_{x\\to1}f(x)}{\\lim_{x\\to1}h(x)}$$\n",
    "Substituting in the limit values:\n",
    "$$\\frac{8}{2}=4$$"
   ]
  },
  {
   "cell_type": "markdown",
   "id": "0d99f995",
   "metadata": {},
   "source": [
    "19. $\\lim_{x\\to1}(f(x)-g(x))$"
   ]
  },
  {
   "cell_type": "markdown",
   "id": "b7572422",
   "metadata": {},
   "source": [
    "Difference rule:\n",
    "$$\\lim_{x\\to1}(f(x)-g(x))=\\lim_{x\\to1}f(x)-\\lim_{x\\to1}g(x)$$\n",
    "Substituing in the limit values:\n",
    "$$8-3=5$$"
   ]
  },
  {
   "cell_type": "markdown",
   "id": "f9cead05",
   "metadata": {},
   "source": [
    "20. $\\lim_{x\\to1}(f(x)h(x))$"
   ]
  },
  {
   "cell_type": "markdown",
   "id": "6f4e39eb",
   "metadata": {},
   "source": [
    "Product rule:\n",
    "$$\\lim_{x\\to1}(f(x)h(x))=\\lim_{x\\to1}f(x)\\cdot\\lim_{x\\to1}h(x)$$\n",
    "Substituting in the limit values:\n",
    "$$8\\cdot2=16$$"
   ]
  },
  {
   "cell_type": "markdown",
   "id": "bc73f4fb",
   "metadata": {},
   "source": [
    "21. $$\\lim_{x\\to1}\\frac{f(x)g(x)}{h(x)}$$"
   ]
  },
  {
   "cell_type": "markdown",
   "id": "7ca5cd02",
   "metadata": {},
   "source": [
    "Quotient rule:\n",
    "$$\\frac{\\lim_{x\\to1}(f(x)g(x))}{\\lim_{x\\to1}h(x)}$$\n",
    "Product rule in the numerator:\n",
    "$$\\frac{\\lim_{x\\to1}f(x)\\cdot\\lim_{x\\to1}g(x)}{\\lim_{x\\to1}h(x)}$$\n",
    "Substituting in limit values:\n",
    "$$\\frac{8\\cdot3}{2}=12$$"
   ]
  },
  {
   "cell_type": "markdown",
   "id": "f8261126",
   "metadata": {},
   "source": [
    "22. $$\\lim_{x\\to1}\\frac{f(x)}{g(x)-h(x)}$$"
   ]
  },
  {
   "cell_type": "markdown",
   "id": "397ed7d5",
   "metadata": {},
   "source": [
    "Quotient rule:\n",
    "$$\\frac{\\lim_{x\\to1}f(x)}{\\lim_{x\\to1}(g(x)-h(x))}$$\n",
    "Difference rule on the denominator:\n",
    "$$\\frac{\\lim_{x\\to1}f(x)}{\\lim_{x\\to1}g(x)-\\lim_{x\\to1}h(x)}$$\n",
    "Substituing in limit values:\n",
    "$$\\frac{8}{3-2}=8$$"
   ]
  },
  {
   "cell_type": "markdown",
   "id": "c531e780",
   "metadata": {},
   "source": [
    "23. $$\\lim_{x\\to1}(h(x))^5$$"
   ]
  },
  {
   "cell_type": "markdown",
   "id": "ecdfeb06",
   "metadata": {},
   "source": [
    "Power rule:\n",
    "$$\\left(\\lim_{x\\to1}h(x)\\right)^5$$\n",
    "Substituing in limit values:\n",
    "$$(2)^5=32$$"
   ]
  },
  {
   "cell_type": "markdown",
   "id": "926f2b33",
   "metadata": {},
   "source": [
    "24. $$\\lim_{x\\to1}\\sqrt[3]{f(x)g(x)+3}$$"
   ]
  },
  {
   "cell_type": "markdown",
   "id": "2e3cd5b3",
   "metadata": {},
   "source": [
    "Fractional power rule:\n",
    "$$\\sqrt[3]{\\lim_{x\\to1}(f(x)g(x)+3)}$$\n",
    "Addition rule:\n",
    "$$\\sqrt[3]{\\lim_{x\\to1}(f(x)g(x))+\\lim_{x\\to1}3}$$\n",
    "Product rule:\n",
    "$$\\sqrt[3]{\\lim_{x\\to1}f(x)\\cdot\\lim_{x\\to1}g(x)+\\lim_{x\\to1}3}$$\n",
    "Substituting in limit values and simplifying by direct substitution\n",
    "$$\\sqrt[3]{8\\cdot3+3}=\\sqrt[3]{27}=3$$"
   ]
  }
 ],
 "metadata": {
  "kernelspec": {
   "display_name": "Python 3 (ipykernel)",
   "language": "python",
   "name": "python3"
  },
  "language_info": {
   "codemirror_mode": {
    "name": "ipython",
    "version": 3
   },
   "file_extension": ".py",
   "mimetype": "text/x-python",
   "name": "python",
   "nbconvert_exporter": "python",
   "pygments_lexer": "ipython3",
   "version": "3.9.7"
  }
 },
 "nbformat": 4,
 "nbformat_minor": 5
}
