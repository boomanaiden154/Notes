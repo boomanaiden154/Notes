{
 "cells": [
  {
   "cell_type": "markdown",
   "id": "c9504014",
   "metadata": {},
   "source": [
    "# 2.1 The Idea of Limits"
   ]
  },
  {
   "cell_type": "markdown",
   "id": "45d1fd09",
   "metadata": {},
   "source": [
    "1. Suppose $s(t)$ is the position of an object moving along a line at time $t\\ge0$. What is the average velocity between the times $t=a$ and $t=b$?"
   ]
  },
  {
   "cell_type": "markdown",
   "id": "d87560c1",
   "metadata": {},
   "source": [
    "$$\\frac{t(b)-t(a)}{b-a}$$"
   ]
  },
  {
   "cell_type": "markdown",
   "id": "756d366b",
   "metadata": {},
   "source": [
    "2. Supposed $s(t)$ is the position of an object moving along a line at time $t\\ge0$. Describe a process for finding the instantaneous velocity at $t=a$."
   ]
  },
  {
   "cell_type": "markdown",
   "id": "33e6f8c2",
   "metadata": {},
   "source": [
    "Take the following limit:\n",
    "$$\\lim_{t\\to a}\\frac{s(t)-s(a)}{t-a}$$"
   ]
  },
  {
   "cell_type": "markdown",
   "id": "fc68b989",
   "metadata": {},
   "source": [
    "3. What is the slope of the secant line that passes through the points $(a,f(a))$ and $(b,f(b))$ on the graph of $f$?"
   ]
  },
  {
   "cell_type": "markdown",
   "id": "61f20b7c",
   "metadata": {},
   "source": [
    "$$m_{sec}=\\frac{f(b)-f(a)}{b-a}$$"
   ]
  },
  {
   "cell_type": "markdown",
   "id": "68aba176",
   "metadata": {},
   "source": [
    "4. Describe a process for finding the slope of the line tangent to the graph of $f$ at $(a,f(a))$."
   ]
  },
  {
   "cell_type": "markdown",
   "id": "edd4544c",
   "metadata": {},
   "source": [
    "$$m_{tan}=\\lim_{x\\to a}\\frac{f(x)-f(a)}{x-a}$$"
   ]
  },
  {
   "cell_type": "markdown",
   "id": "78754ae4",
   "metadata": {},
   "source": [
    "5. Describe the parallels between finding the instantaneous velocity of an object at a point in time and finding the slope of the line tangent to the graph of a function at a point on the graph."
   ]
  },
  {
   "cell_type": "markdown",
   "id": "4a50c582",
   "metadata": {},
   "source": [
    "When looking at a position function, $p(t)$, the instantaneous velocity can be represented by the slope of the tangent line at the point in time under question."
   ]
  },
  {
   "cell_type": "markdown",
   "id": "eb6ca906",
   "metadata": {},
   "source": [
    "6. Graph the parabola $f(x)=x^2$. Explain why the secant lines between the points $(-a,f(-a))$ and $(a,f(a))$ have zero slope. What is the slope of the tangent line at $x=0$?"
   ]
  },
  {
   "cell_type": "code",
   "execution_count": 5,
   "id": "58ea3002",
   "metadata": {},
   "outputs": [
    {
     "data": {
      "text/plain": [
       "[<matplotlib.lines.Line2D at 0x7fed6e462340>]"
      ]
     },
     "execution_count": 5,
     "metadata": {},
     "output_type": "execute_result"
    },
    {
     "data": {
      "image/png": "[encoded data removed]",
      "text/plain": [
       "<Figure size 432x288 with 1 Axes>"
      ]
     },
     "metadata": {
      "needs_background": "light"
     },
     "output_type": "display_data"
    }
   ],
   "source": [
    "from matplotlib import pyplot\n",
    "import numpy\n",
    "import math\n",
    "%matplotlib inline\n",
    "x=numpy.arange(-10, 10, 0.05)\n",
    "y=numpy.square(x)\n",
    "fig=pyplot.figure()\n",
    "ax=fig.add_axes([0,0,1,1])\n",
    "ax.plot(x,y)"
   ]
  },
  {
   "cell_type": "markdown",
   "id": "5090bb8e",
   "metadata": {},
   "source": [
    "The secant lines between $(-a,f(-a))$ and $(a,f(a))$ have zero slope due to the nature of the quadratic function. These secant lines all have an average slope of zero due to the symmetric nature of the quadratic function. The slope of the tangent line at $x=0$ is 0."
   ]
  },
  {
   "cell_type": "markdown",
   "id": "451e7010",
   "metadata": {},
   "source": [
    "7. **Average velocity** The function $s(t)$ represents the position of an object at time $t$ moving along a line. Suppose $s(2) = 136$ and $s(3) = 156$. Find the average velocity ofthe object over the interval of time $[2,3]$."
   ]
  },
  {
   "cell_type": "markdown",
   "id": "7946f79f",
   "metadata": {},
   "source": [
    "$$m_{av}=\\frac{s(3)-s(2)}{3-2}=\\frac{156-136}{3-2}=\\frac{20}{1}=20$$"
   ]
  },
  {
   "cell_type": "markdown",
   "id": "9207d232",
   "metadata": {},
   "source": [
    "8. **Average velocity** The function $s(t)$ represents the position of an object at time $t$ moving along a line. Suppose $s(1)=84$ and $s(4)=144$. Find the average velocity of the object over the interval of time $[1,4]$."
   ]
  },
  {
   "cell_type": "markdown",
   "id": "f1b24423",
   "metadata": {},
   "source": [
    "$$m_{av}=\\frac{s(4)-s(1)}{4-1}=\\frac{144-84}{4-1}=\\frac{60}{3}=20$$"
   ]
  }
 ],
 "metadata": {
  "kernelspec": {
   "display_name": "Python 3 (ipykernel)",
   "language": "python",
   "name": "python3"
  },
  "language_info": {
   "codemirror_mode": {
    "name": "ipython",
    "version": 3
   },
   "file_extension": ".py",
   "mimetype": "text/x-python",
   "name": "python",
   "nbconvert_exporter": "python",
   "pygments_lexer": "ipython3",
   "version": "3.9.7"
  }
 },
 "nbformat": 4,
 "nbformat_minor": 5
}
