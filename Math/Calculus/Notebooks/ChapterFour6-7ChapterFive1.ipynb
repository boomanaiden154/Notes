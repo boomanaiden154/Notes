{
 "cells": [
  {
   "cell_type": "markdown",
   "id": "d2e3a9db",
   "metadata": {},
   "source": [
    "# Chapter 4 (6 to 7) and Chapter 5 (1) study guide"
   ]
  },
  {
   "cell_type": "markdown",
   "id": "89eb9147",
   "metadata": {},
   "source": [
    "1. Determine whether Rolle's theorem applies to the function shown below on the given interval. If so, find the point(s) that are guaranteed to exist by Rolle's theorem.\n",
    "$$f(x)=10x^{\\frac{2}{3}}$$ $$[-1,1]$$"
   ]
  },
  {
   "cell_type": "markdown",
   "id": "e4e00c8a",
   "metadata": {},
   "source": [
    "In order for Rolle's theoreom to apply, $f(a)$ must equal $f(b)$ with the interval $[a,b]$, and the function must be continous over the closed interval $[a,b]$ and differentiable over the open interval $(a,b)$. The function in question is symmetric due to the nature of the power $x$ is raised to, and since the interval is also symmetric over the y-axis, $f(a)=f(b)$. However, it is important to note that due to the function being symmetric, the function is not differentiable at $x=0$ which is in the interval in question and thus Rolle's theorem does not apply."
   ]
  },
  {
   "cell_type": "code",
   "execution_count": 13,
   "id": "859b27dc",
   "metadata": {},
   "outputs": [
    {
     "data": {
      "image/png": "[encoded data removed]",
      "text/plain": [
       "<Figure size 432x288 with 1 Axes>"
      ]
     },
     "metadata": {
      "needs_background": "light"
     },
     "output_type": "display_data"
    }
   ],
   "source": [
    "from matplotlib import pyplot\n",
    "import numpy\n",
    "import math\n",
    "%matplotlib inline\n",
    "x = numpy.arange(-1,1,0.05)\n",
    "f = lambda u: 10 * numpy.cbrt(u ** 2)\n",
    "ffun = numpy.vectorize(f)\n",
    "y = ffun(x)\n",
    "fig = pyplot.plot(x,y)"
   ]
  },
  {
   "cell_type": "markdown",
   "id": "0240810b",
   "metadata": {},
   "source": [
    "The sharp cusp is evident in the graph at $x=0$ and means that there will be a jump continuity in the derivative at $x=0$ which means that Rolle's theorem does not apply."
   ]
  },
  {
   "cell_type": "markdown",
   "id": "0ed317d8",
   "metadata": {},
   "source": [
    "2. Find the indicated limit. Make sure that you have an indeterminate form before you apply L'Hôpital's rule.\n",
    "$$\\lim_{x\\to-6}\\frac{x^2+9x+18}{x^2-2x-48}$$"
   ]
  },
  {
   "cell_type": "markdown",
   "id": "ebcb87bf",
   "metadata": {},
   "source": [
    "By substituting in the value $-6$ into the numerator and denominator, we get:\n",
    "$$\\frac{(-6)^2+9(-6)+18}{(-6)^2-2(-6)-48}=\\frac{0}{0}$$\n",
    "Since $\\frac{0}{0}$ is an indeterminate form, we can proceed to use L'Hôpital's rule. Taking the derivative of the numerator and the denominator yields:\n",
    "$$\\lim_{x\\to-6}\\frac{2x+9}{2x-2}$$\n",
    "Substituting in everything gets:\n",
    "$$\\frac{2(-6)+9}{2(-6)-2}=\\frac{-3}{-14}=\\frac{3}{14}$$\n",
    "While L'Hôpital's rule is useful in this instance, simply factoring the numerator and denominator and cross cancelling will also yield the same result:\n",
    "$$\\lim_{x\\to-6}\\frac{x^2+9x+18}{x^2-2x-48}=\\frac{(x+6)(x+3)}{(x-8)(x+6)}=\\frac{x+3}{x-8}$$\n",
    "Doing a final substitution also yields:\n",
    "$$\\frac{-6+3}{-6-8}=\\frac{-3}{-14}=\\frac{3}{14}$$\n",
    "MathXL has no way of telling what method you use, and factoring and cancelling out common factors is the preferrable method for some."
   ]
  },
  {
   "cell_type": "markdown",
   "id": "1d88525a",
   "metadata": {},
   "source": [
    "3. Evalute the limit using L'Hôpital's rule.\n",
    "$$\\lim_{x\\to0}\\frac{7\\sin{4x}}{5x}$$"
   ]
  },
  {
   "cell_type": "markdown",
   "id": "f2634935",
   "metadata": {},
   "source": [
    "While the question does not require making sure that the formula yields an indeterminate result in its current form, it is always good practice to check:\n",
    "$$\\lim_{x\\to0}\\frac{7\\sin{4x}}{5x}=\\frac{7\\sin{4(0)}}{5(0)}=\\frac{0}{0}$$\n",
    "Since we now know that the formula in its current state yields the indeterminate result $\\frac{0}{0}$, we can proceed by differentiating the top and bottom:\n",
    "$$\\frac{28\\cos{4x}}{5}$$\n",
    "Now, substituting in $x=0$, we get:\n",
    "$$\\frac{28\\cos{4(0)}}{5}=\\frac{28}{5}$$\n",
    "$\\frac{28}{5}$ is the final answer."
   ]
  },
  {
   "cell_type": "markdown",
   "id": "d11f9ec2",
   "metadata": {},
   "source": [
    "4. Use L'Hôpital's rule to find the following limit.\n",
    "$$\\lim_{x\\to \\infty}\\frac{6x^4-5x^2}{7x^4+16}$$"
   ]
  },
  {
   "cell_type": "markdown",
   "id": "19569693",
   "metadata": {},
   "source": [
    "First off, we need to verify that the formula in its current state actually results in an indeterminate form:\n",
    "$$\\frac{6(\\infty)^4-5(\\infty)^2}{7(\\infty)^4+16}=\\frac{\\infty}{\\infty}$$\n",
    "Since this does result in the indeterminate form $\\frac{\\infty}{\\infty}$, we can proceed by using L'Hôpital's rule. Taking the derivative of the numerator and the denominator yields:\n",
    "$$\\frac{24x^3-10x}{28x^3}$$\n",
    "This is also clearly going to result in the indeterminate form $\\frac{\\infty}{\\infty}$ when $x=\\infty$ is substituted into the formula. Differentiating again yields:\n",
    "$$\\frac{72x^2-10}{84x^2}$$\n",
    "Same thing as in the previous step also applies here. Differentiate again:\n",
    "$$\\frac{144x}{168x}$$\n",
    "Same as the two previous step yields:\n",
    "$$\\frac{144}{168}=\\frac{6}{7}$$\n",
    "This is the final answer to this problem. Also note that this problem can be solved quite easily by remembering some basic rules about rational functions with polynomials in the numerator and the denominator. If the degree of the numerator is equal to the degree of the denominator, then the horizontal asymptotes on both sides will have a y-level equal to the coefficient of the term of the highest degree in the numerator divided by the coefficient of the term of the highest degree in the denominator."
   ]
  },
  {
   "cell_type": "markdown",
   "id": "e0332668",
   "metadata": {},
   "source": [
    "5. Determine whether Rolle's Theorem applies to the following function on the given interval. If so, find the point(s) that are guaranteed to exist by Rolle's Theorem.\n",
    "$$g(x)=x^3+11x^2+40x+48$$\n",
    "$$[-4,-3]$$"
   ]
  },
  {
   "cell_type": "markdown",
   "id": "7dce6162",
   "metadata": {},
   "source": [
    "We know that the function is going to be both differentiable and continuous over $\\mathbb{R}$. In order to show that Rolle's Theoreom applies we now only need to show that $g(-4)=g(-3)=0$. This is pretty simple:\n",
    "$$g(-4)=(-4)^3+11(-4)^2+40(-4)+48=0$$\n",
    "$$g(-3)=(-3)^3+11(-4)^2+40(-3)+48=0$$\n",
    "Now, we simply need to find the point $x=c$ where $c$ is in the interval $[-4,-3]$ such that $g'(c)=0$. To do this, we simply find the derivative of the function and then set it equal to zero. The derivative of the function is found quite easily using the power rule:\n",
    "$$g'(x)=3x^2+22x+40$$\n",
    "Setting this equal to zero yields:\n",
    "$$0=3x^2+22x+40$$\n",
    "Factoring over the integers does not yield any results. Applying the quadratic formula yields:\n",
    "$$\\frac{-22\\pm\\sqrt{22^2-4(3)(40)}}{2(3)}=\\frac{-22\\pm\\sqrt{4}}{6}=\\frac{-22\\pm2}{6}$$\n",
    "This yields two results:\n",
    "$$\\frac{-22+2}{6}=\\frac{-20}{6}=\\frac{-10}{3}$$\n",
    "$$\\frac{-22-2}{6}=\\frac{-24}{6}=-4$$\n",
    "Only one of these answers is within the interval that was given in the problem, making $\\frac{-10}{3}$ our answer for the value of the point that is guaranteed by Rolle's Theorem."
   ]
  },
  {
   "cell_type": "markdown",
   "id": "be615f99",
   "metadata": {},
   "source": [
    "6. \n",
    "* Determine whether the Mean Value Theorem applies to the function $f(x)=2-x^2$ on the interval $[-2,1]$.\n",
    "* If so, find or approximate the point(s) that are guaranteed to exist by the Mean Value Theorem.\n",
    "* Make a sketch of the function and the line that passes through $(a,f(a))$ and $(b,f(b))$. Mark the points $P$ (if they exist) at which the slope of th function equals the slope of the secant line. Then sketch the tangent line at $P$."
   ]
  },
  {
   "cell_type": "markdown",
   "id": "57b8e083",
   "metadata": {},
   "source": [
    "* Does the mean value theorem apply to the function $f(x)=2-x^2$ on the interval $[-2,1]$?\n",
    "\n",
    "The answer to this is yes because $f(x)$ is a simple polynomial function and thus continuous and differentiable over $\\mathbb{R}$ which are the only two conditions of the mean value theorem.\n",
    "\n",
    "* What points, if any, are guaranteed to exist by the mean value theorem? Select the correct choice below and, if necessary, fill in the answer box to complete your choice.\n",
    "\n",
    "To find this out, we need to find the slope of the secant line ($m_{sec}$) and then find when the derivative is equal to the slope of the secant line. First, let's find the derivative:\n",
    "$$f'(x)=-2x$$\n",
    "Now, let's find the slope of the secant line:\n",
    "$$m_{sec}=\\frac{f(1)-f(-2)}{1+2}=\\frac{1+2}{3}=1$$\n",
    "Now we need to find where the derivative is equal to the slope of the secant line:\n",
    "$$-2x=1$$\n",
    "$$x=-\\frac{1}{2}$$\n",
    "This is the point that is guaranteed to exist by the mean value theorem.\n",
    "\n",
    "* Choose the correct graph below.\n",
    "\n",
    "The question asks us to graph the points where the slope of the secant line equals the slope of the tangent line ($x=\\frac{1}{2}$). It also asks us to graph the tangent line at this point, and finally, we need to graph the secant line. The graph looks like the following:"
   ]
  },
  {
   "cell_type": "code",
   "execution_count": 20,
   "id": "e5acaf80",
   "metadata": {
    "scrolled": false
   },
   "outputs": [
    {
     "data": {
      "text/plain": [
       "<matplotlib.legend.Legend at 0x7f493c31b820>"
      ]
     },
     "execution_count": 20,
     "metadata": {},
     "output_type": "execute_result"
    },
    {
     "data": {
      "image/png": "[encoded data removed]",
      "text/plain": [
       "<Figure size 432x288 with 1 Axes>"
      ]
     },
     "metadata": {
      "needs_background": "light"
     },
     "output_type": "display_data"
    }
   ],
   "source": [
    "from matplotlib import pyplot\n",
    "import numpy\n",
    "import math\n",
    "%matplotlib inline\n",
    "x = numpy.arange(-5,5,0.05)\n",
    "f = lambda u: 2 - numpy.power(u,2)\n",
    "ffun = numpy.vectorize(f)\n",
    "y = ffun(x)\n",
    "fig = pyplot.figure()\n",
    "ax = fig.add_axes([0,0,1,1])\n",
    "ax.plot(x,y,label='f(x)')\n",
    "Px = -1/2\n",
    "Py = f(Px)\n",
    "ax.axline((Px,Py),slope=1,color='C1',label='tangent line')\n",
    "Sec1X = -2\n",
    "Sec1Y = f(Sec1X)\n",
    "Sec2X = 1\n",
    "Sec2Y = f(Sec2X)\n",
    "ax.axline((Sec1X,Sec1Y), (Sec2X,Sec2Y),color='C2',label='secant line')\n",
    "ax.scatter(Px,Py,label='P')\n",
    "ax.legend()"
   ]
  },
  {
   "cell_type": "markdown",
   "id": "6f112c2c",
   "metadata": {},
   "source": [
    "7. \n",
    "* Determine whether the Mean Value Theorem applies to the following function on the given interval $[a,b]$.\n",
    "* If so, find or approximate the point(s) that are guaranteed to exist by the Mean Value Theorem.\n",
    "* Make a sketch of the function and the line that passes through $(a,f(a)$ and $(b,f(b)$. Mark the points $P$ (if they exist) at which the slope of the function equals the slope of the secant line. Then sketch the tangent line at $P$.\n",
    "$$f(x)=\\ln{15x}$$\n",
    "$$[1,e]$$"
   ]
  },
  {
   "cell_type": "markdown",
   "id": "9c1b9c33",
   "metadata": {},
   "source": [
    "* Does the mean value theorem apply to the function?\n",
    "\n",
    "The function is continuous and differentiable over the interval that is given, so yes, the mean value theorem applies to the function.\n",
    "* The point(s) that satisfy the mean value theorem is:\n",
    "\n",
    "First off, let's find the derivative of the function. Utilizing the fact that $\\frac{d}{dx}lnx=\\frac{1}{x}$ and the chain rule gets us:\n",
    "$$f'(x)=15\\frac{1}{15x}=\\frac{1}{x}$$\n",
    "Next, let's find the slope of the secant line:\n",
    "$$\\frac{f(e)-f(1)}{e-1}=\\frac{\\ln{15e}-\\ln{15}}{e-1}=\\frac{\\ln{\\frac{15e}{15}}}{e-1}=\\frac{\\ln{e}}{e-1}=\\frac{1}{e-1}$$\n",
    "Notice the usage of the logarithm division rule where two log terms of the same base are combined so that the terms can be divided. Setting the slope of the secant line equal to the derivative to find the point that the mean value theorem guarantees yields:\n",
    "$$\\frac{1}{x}=\\frac{1}{e-1}$$\n",
    "$$x=e-1$$\n",
    "This is the point that is guaranteed by the mean value theorem.\n",
    "* Graph the function, the secant line, the tangent line, and the point $P$ where the slope of the secant line and tangent line are equal"
   ]
  },
  {
   "cell_type": "code",
   "execution_count": 24,
   "id": "2f0ac6db",
   "metadata": {},
   "outputs": [
    {
     "data": {
      "text/plain": [
       "<matplotlib.legend.Legend at 0x7f493c160a00>"
      ]
     },
     "execution_count": 24,
     "metadata": {},
     "output_type": "execute_result"
    },
    {
     "data": {
      "image/png": "[encoded data removed]",
      "text/plain": [
       "<Figure size 432x288 with 1 Axes>"
      ]
     },
     "metadata": {
      "needs_background": "light"
     },
     "output_type": "display_data"
    }
   ],
   "source": [
    "from matplotlib import pyplot\n",
    "import numpy\n",
    "import math\n",
    "%matplotlib inline\n",
    "x = numpy.arange(0.01,3,0.01)\n",
    "f = lambda u: numpy.log(15*u)\n",
    "ffun = numpy.vectorize(f)\n",
    "y = ffun(x)\n",
    "fig = pyplot.figure()\n",
    "ax = fig.add_axes([0,0,1,1])\n",
    "ax.plot(x,y,label='f(x)')\n",
    "Px = math.e - 1\n",
    "Py = f(Px)\n",
    "ax.axline((Px,Py),slope=(1/(math.e-1)),color='C1',label='tangent line')\n",
    "Sec1X = 1\n",
    "Sec1Y = f(Sec1X)\n",
    "Sec2X = math.e\n",
    "Sec2Y = f(Sec2X)\n",
    "ax.axline((Sec1X,Sec1Y), (Sec2X,Sec2Y),color='C2',label='secant line')\n",
    "ax.scatter(Px,Py,label='P')\n",
    "ax.legend()"
   ]
  },
  {
   "cell_type": "markdown",
   "id": "439e7e22",
   "metadata": {},
   "source": [
    "8. Determine the following indefinite integral. Check your work by differentiation.\n",
    "$$\\int(9x^{17}-7x^{13})dx$$"
   ]
  },
  {
   "cell_type": "markdown",
   "id": "cc362ffb",
   "metadata": {},
   "source": [
    "In order to solve this, we need to use the inverse power rule:\n",
    "$$\\int ak^n=\\frac{a}{n+1}k^{n+1}+C$$\n",
    "Splitting the integral yields:\n",
    "$$\\int(9x^{17}-7x^{13})dx=\\int9x^{17}dx-\\int7x^{13}dx$$\n",
    "Then applying the inverse power rule to each individual integral yields:\n",
    "$$\\frac{9}{17+1}x^{17+1}-\\frac{7}{13+1}x^{13+1}=\\frac{1}{2}x^{18}-\\frac{1}{2}x^{14}+C$$\n",
    "Checking the answer by differentiation is left as an exercise to the reader. 😛"
   ]
  },
  {
   "cell_type": "markdown",
   "id": "cc80d500",
   "metadata": {},
   "source": [
    "9. Determine the indefinite integral $\\int(\\sin{5y}+\\cos{8y})dy$. Check the answer by differentiation."
   ]
  },
  {
   "cell_type": "markdown",
   "id": "a90bed72",
   "metadata": {},
   "source": [
    "To solve this problem, we simply need to know the antiderivtives of the two mentioned trigonmetric functions:\n",
    "$$\\int\\sin{ay}dy=-\\frac{1}{a}\\cos{ay}+C$$\n",
    "$$\\int\\cos{ay}dy=\\frac{1}{a}\\sin{ay}+C$$\n",
    "Splitting the integral yields:\n",
    "$$\\int\\sin{5y}dy+\\int\\cos{8y}dy$$\n",
    "Using the two rules mentioned above yields:\n",
    "$$-\\frac{1}{5}\\cos{5y}+\\frac{1}{8}\\sin{8y}+C$$\n",
    "Checking the answer by differentiation is again left as an exercise to the reader. 😛"
   ]
  },
  {
   "cell_type": "markdown",
   "id": "7c4aa9b3",
   "metadata": {},
   "source": [
    "10. Determine the following indefinite integral. Check your work by differentiation.\n",
    "$$\\int\\csc^2{7x}dx$$"
   ]
  },
  {
   "cell_type": "markdown",
   "id": "e3314828",
   "metadata": {},
   "source": [
    "This relies on knowing the antiderivative of $\\csc^2{x}$, but it is derivable during a test if you forget:\n",
    "$$\\int\\csc^2{ax}=-\\frac{1}{a}\\cot{ax}+C$$\n",
    "Applying this rule to the indefinite integral given yields:\n",
    "$$\\int\\csc^2{7x}dx=-\\frac{1}{7}\\cot{7x}+C$$\n",
    "Checking the answer by differentiation is again left as an exercise to the reader. 😛"
   ]
  },
  {
   "cell_type": "markdown",
   "id": "0978c9ec",
   "metadata": {},
   "source": [
    "11. Determine the following indefinite integral.\n",
    "$$\\int\\frac{3}{49z^2+64}dz$$"
   ]
  },
  {
   "cell_type": "markdown",
   "id": "6eac832b",
   "metadata": {},
   "source": [
    "The antiderivative rule that needs to be used is actually one that results in $\\tan^{-1}{x}$, but some transformations need to be made to the formula before it can be utilized. First off, the integral rule for $\\tan^{-1}{x}$ looks like this:\n",
    "$$\\int\\frac{1}{x^2+a^2}dx=\\frac{1}{a}\\tan^{-1}{\\frac{x}{a}}+C$$\n",
    "Transforming the given integral to match the form given in the rule looks something like this:\n",
    "$$\\int\\frac{3}{49z^2+64}dz=\\int\\frac{3}{49}\\frac{1}{z^2+\\frac{64}{49}}dz=\\frac{3}{49}\\int\\frac{1}{z^2+\\left(\\frac{8}{7}\\right)^2}dz$$\n",
    "Then, applying the rule that has been shown:\n",
    "$$\\frac{3}{49}\\frac{7}{8}\\tan^{-1}{\\frac{z}{\\frac{8}{7}}}+C=\\frac{3}{56}\\tan^{-1}{\\frac{7z}{8}}+C$$"
   ]
  },
  {
   "cell_type": "markdown",
   "id": "c3dfe71d",
   "metadata": {},
   "source": [
    "12. Find the solution of the following initial value problem:\n",
    "$$g'(x)=9x\\left(x^8-\\frac19\\right)$$\n",
    "$$g(1)=3$$"
   ]
  },
  {
   "cell_type": "markdown",
   "id": "9b2ca37a",
   "metadata": {},
   "source": [
    "To do this, we first need to antidifferentiate $g'(x)$ and then we need to solve using the given constraints so that we can find wht $C$ is supposed to equal. First off, let's start by simplifying the derivative:\n",
    "$$9x\\cdot x^8-\\frac{9x}{9}=9x^9-x$$\n",
    "Now, we need to apply the inverse power rule on these two terms:\n",
    "$$\\int(9x^9-x)dx=\\frac{9}{10}x^{10}-\\frac{1}{2}x^2+C$$\n",
    "Now that we know the antiderivative, we need to solve for $C$. This looks like the following utilizing the fact that $g(1)=3$:\n",
    "$$\\frac{9}{10}(1)^3-\\frac{1}{2}(1)^2+C=3$$\n",
    "$$\\frac{9}{10}-\\frac{1}{2}+C=3$$\n",
    "$$\\frac{4}{10}+C=\\frac{30}{10}$$\n",
    "$$C=\\frac{26}{10}=\\frac{13}{5}$$\n",
    "Plugging this back into the original formula that we got:\n",
    "$$g(x)=\\frac{9}{10}x^{10}-\\frac{1}{2}x^2+\\frac{13}{5}$$"
   ]
  },
  {
   "cell_type": "markdown",
   "id": "9835a965",
   "metadata": {},
   "source": [
    "13. Given the following acceleration function of an object moving along a line, find the position function with the given initial velocity and position.\n",
    "$$a(t)=3\\sin{4t}$$\n",
    "$$v(0)=1$$\n",
    "$$s(0)=5$$"
   ]
  },
  {
   "cell_type": "markdown",
   "id": "c5a9d5ee",
   "metadata": {},
   "source": [
    "To solve this problem, we need to antidifferentiate $a(t)$ once to get $v(t)$ and then solve for $C$, and then antidifferentiate to get $s(t)$ and then solve for $C$ again. Starting off by integrating $a(t)$:\n",
    "$$\\int3\\sin{4t}dt=-\\frac{3}{4}\\cos{4t}+C$$\n",
    "Now, we need to solve for $C$ utilizing the fact that $v(0)=1$.\n",
    "$$-\\frac{3}{4}\\cos{4(0)}+C=1$$\n",
    "$$-\\frac{3}{4}+C=1$$\n",
    "$$C=\\frac{7}{4}$$\n",
    "Plugging this back into the original formula that we obtained for $v(t)$ yields:\n",
    "$$-\\frac{3}{4}\\cos{4t}+\\frac{7}{4}$$\n",
    "Antidifferentiating this looks like the following:\n",
    "$$\\int\\left(-\\frac{3}{4}\\cos{4t}+\\frac{7}{4}\\right)dt=-\\frac{3}{16}\\sin{4t}+\\frac{7}{4}t+C$$\n",
    "Solving for $C$ again utilizing the fact that $s(0)=5$ yields:\n",
    "$$-\\frac{3}{16}\\sin{4(0)}+\\frac{7}{4}(0)+C=5$$\n",
    "$$C=5$$\n",
    "Putting everything back into the original formula gives us the answer:\n",
    "$$-\\frac{3}{16}\\sin{4t}+\\frac{7}{4}t+5$$"
   ]
  },
  {
   "cell_type": "markdown",
   "id": "2dd1a3d3",
   "metadata": {},
   "source": [
    "14. Consider the following descriptions of the vertical motion of an object subject only to the acceleration due to gravity. (Note: the acceleration due to gravity is 9.8 m/s^2.)\n",
    "\n",
    "* Find the velocity of the object for all relevant times\n",
    "* Find the position of the object for all relevant times\n",
    "* Find the time when the object reaches its highest point (What is the height?)\n",
    "* Find the time when the object strikes the ground.\n",
    "\n",
    "A payload is released at an elevation of 700m from a hot-air balloon that is rising at a rate of 9m/s."
   ]
  },
  {
   "cell_type": "markdown",
   "id": "0cb735cb",
   "metadata": {},
   "source": [
    "Parsing the information within the question is crucial. Since we know that the object is falling down due to the acceleration of gravity, we know that $a(t)=-9.8$. Since the hot-air balloon is rising at 9m/s, this means that $v(0)=9$ and since the paylod is released at 700m, this means that $s(0)=700$. Then we simply have to integrate all the way up to the top. Starting by finding $v(t)$:\n",
    "$$v(t)=\\int-9.8dt=-9.8t+C$$\n",
    "Solving for $C$ utilizing the fact that $v(0)=9$ yields:\n",
    "$$-9.8(0)+C=9$$\n",
    "$$C=9$$\n",
    "Putting this back into $v(t)$ yields the following for $v(t)$:\n",
    "$$v(t)=-9.8t+9$$\n",
    "Antidifferentiating this to find $s(t)$ looks like the following:\n",
    "$$s(t)=\\int(-9.8t+9)dt=-4.9t^2+9t+C$$\n",
    "Solving for $C$ utilizing the fact that $s(0)=700$ looks like the following:\n",
    "$$-4.9(0)^2+9(0)+C=700$$\n",
    "$$C=700$$\n",
    "Substituting this back into the original equation for $s(t)$ yields:\n",
    "$$s(t)=-4.9t^2+9t+700$$\n",
    "Now, we need to find the objects highest point and at what time this occurs. This simply involves finding the vertex of the quadratic function. It is easiest to do this numerically using a calculator as shown below:"
   ]
  },
  {
   "cell_type": "code",
   "execution_count": 35,
   "id": "9fae40f7",
   "metadata": {},
   "outputs": [
    {
     "data": {
      "text/plain": [
       "(0.918367346938775, 704.132653061224)"
      ]
     },
     "execution_count": 35,
     "metadata": {},
     "output_type": "execute_result"
    }
   ],
   "source": [
    "from sympy import *\n",
    "t = Symbol('t')\n",
    "(nsolve(diff(-4.9*t**2+9*t+700, t), t, 0),-4.9*highest**2+9*highest+700)"
   ]
  },
  {
   "cell_type": "markdown",
   "id": "fcad5029",
   "metadata": {},
   "source": [
    "This means that the object reached its highest point at approximately 0.92 seconds and it reached a height of approximately 704.13 meters. Next, we need to find the time when the object reaches the ground. This can be found by finding the zereos of $s(t)$:"
   ]
  },
  {
   "cell_type": "code",
   "execution_count": 37,
   "id": "9df9050e",
   "metadata": {
    "scrolled": true
   },
   "outputs": [
    {
     "data": {
      "text/plain": [
       "[(-11.0691487194140, 0.0), (12.9058834132916, 0.0)]"
      ]
     },
     "execution_count": 37,
     "metadata": {},
     "output_type": "execute_result"
    }
   ],
   "source": [
    "from sympy import *\n",
    "t = Symbol('t')\n",
    "solve(-4.9*t**2+9*t+700,t,0)"
   ]
  },
  {
   "cell_type": "markdown",
   "id": "8659aa28",
   "metadata": {},
   "source": [
    "Only one of these is within the domain of the function $t>0$, so that means that the object hits the ground at approximately 12.91 seconds after being launched."
   ]
  },
  {
   "cell_type": "markdown",
   "id": "c1645c62",
   "metadata": {},
   "source": [
    "15. Find the solution of the following initial value problem.\n",
    "$$f'(u)=18(\\cos{u}-\\sin{3u})$$\n",
    "$$f\\left(\\frac{\\pi}{2}\\right)=9$$"
   ]
  },
  {
   "cell_type": "markdown",
   "id": "c1f44acf",
   "metadata": {},
   "source": [
    "Let's begin by simplifying $f'(u)$:\n",
    "$$f'(u)=18\\cos{u}-18\\sin{3u}$$\n",
    "Now, we need to integrate this function, which looks like:\n",
    "$$\\int(18\\cos{u}-18\\sin{3u})du=18\\sin{u}+6\\cos{3u}+C$$\n",
    "Now we need to solve for $C$ with the initial value that is given above:\n",
    "$$18\\sin{\\frac{\\pi}{2}}+6\\cos{3\\frac{\\pi}{2}}+C=9$$\n",
    "$$18+C=9$$\n",
    "$$C=-9$$\n",
    "Putting this back in the original equation yields the following:\n",
    "$$18\\sin{u}+6\\cos{3u}-9$$"
   ]
  },
  {
   "cell_type": "markdown",
   "id": "5ed26506",
   "metadata": {},
   "source": [
    "16. Determine the following indefinite integral.\n",
    "$$\\int(6\\cos{6w}+7\\sin{7w})dw$$"
   ]
  },
  {
   "cell_type": "markdown",
   "id": "12d16109",
   "metadata": {},
   "source": [
    "Determing this integral just involves applying the integration rules for $\\cos{x}$ and $\\sin{x}$. Integrating looks like this:\n",
    "$$\\int(6\\cos{6w}+7\\sin{7w})dw=\\sin{6w}-\\cos{7w}+C$$"
   ]
  },
  {
   "cell_type": "markdown",
   "id": "2f3d803d",
   "metadata": {},
   "source": [
    "17. Determine the following indefinite integral.\n",
    "$$\\int\\frac{1-\\sqrt[15]{x}}{x}dx$$"
   ]
  },
  {
   "cell_type": "markdown",
   "id": "ef8e977b",
   "metadata": {},
   "source": [
    "Evaluating this integral simply involves the integral rule for natural logarithms and the power rule. The integral rule regarding natural log is the following:\n",
    "$$\\int\\frac{1}{x}dx=\\ln{\\lvert x \\rvert }+C$$\n",
    "Now, we need to transform the original indefinite integral in a form that will allow us to use these two rules. Moving the $x$ in the denominator to the top by changing it to $x^{-1}$ is an effective way to do this. Following this tactic, we get:\n",
    "$$\\int(x^{-1}(1-\\sqrt[15]{x})dx=\\int(x^{-1}-x^{\\frac{-14}{15}})dx$$\n",
    "Now, applying the rules mentioned above, we get:\n",
    "$$\\ln{\\lvert x \\rvert} - 15\\sqrt[15]{x}+C$$"
   ]
  }
 ],
 "metadata": {
  "kernelspec": {
   "display_name": "Python 3 (ipykernel)",
   "language": "python",
   "name": "python3"
  },
  "language_info": {
   "codemirror_mode": {
    "name": "ipython",
    "version": 3
   },
   "file_extension": ".py",
   "mimetype": "text/x-python",
   "name": "python",
   "nbconvert_exporter": "python",
   "pygments_lexer": "ipython3",
   "version": "3.10.2"
  }
 },
 "nbformat": 4,
 "nbformat_minor": 5
}
