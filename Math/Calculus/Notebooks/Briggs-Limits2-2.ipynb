{
 "cells": [
  {
   "cell_type": "markdown",
   "id": "76f5ecde",
   "metadata": {},
   "source": [
    "# 2.2 Definitions of Limits"
   ]
  },
  {
   "cell_type": "markdown",
   "id": "3669838d",
   "metadata": {},
   "source": [
    "1. Explain the meaning of $\\lim_{x\\to a}f(x)=L$"
   ]
  },
  {
   "cell_type": "markdown",
   "id": "c985c512",
   "metadata": {},
   "source": [
    "As $x$ approaches $a$, the value of $f(x)$ approaches $L$ from both the right and left hand side."
   ]
  },
  {
   "cell_type": "markdown",
   "id": "9a873391",
   "metadata": {},
   "source": [
    "2. True or false: When $\\lim_{x\\to a}f(x)$ exists, it always equals $f(a)$. Explain."
   ]
  },
  {
   "cell_type": "markdown",
   "id": "665ff771",
   "metadata": {},
   "source": [
    "**False**\n",
    "If you have defined a piecewise function such that $f(x)=x^2$ for all $x$ except for when $x=0$ and when $x=0$, $f(x)$ is defined as $5$, $\\lim_{x\\to 0}f(x)=0$, but $f(0)=5$."
   ]
  },
  {
   "cell_type": "markdown",
   "id": "428f5426",
   "metadata": {},
   "source": [
    "3. Explain the meaning of $\\lim_{x\\to a^+}f(x)=L$."
   ]
  },
  {
   "cell_type": "markdown",
   "id": "7496b332",
   "metadata": {},
   "source": [
    "As $x$ approaches $a$ from the right hand side (moving from values where $x>a$ and decreasing the distance), the value of $f(x)$ approaches $L$."
   ]
  }
 ],
 "metadata": {
  "kernelspec": {
   "display_name": "Python 3 (ipykernel)",
   "language": "python",
   "name": "python3"
  },
  "language_info": {
   "codemirror_mode": {
    "name": "ipython",
    "version": 3
   },
   "file_extension": ".py",
   "mimetype": "text/x-python",
   "name": "python",
   "nbconvert_exporter": "python",
   "pygments_lexer": "ipython3",
   "version": "3.9.7"
  }
 },
 "nbformat": 4,
 "nbformat_minor": 5
}
