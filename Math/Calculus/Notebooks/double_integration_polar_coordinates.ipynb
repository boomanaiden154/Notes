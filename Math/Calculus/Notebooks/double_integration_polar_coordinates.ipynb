{
 "cells": [
  {
   "cell_type": "markdown",
   "id": "d20355a4",
   "metadata": {},
   "source": [
    "# Double Integration in Polar Coordinates\n",
    "While over the past three articles, we've seen that double integration over cartesian coordinates is a useful and powerful tool, sometimes these integrals can be difficult to evaluate in their cartesian form. Integrating in polar coordinates by converting a cartesian double integral to its polar form or simply expressing the problem in terms of polar coordinates. Typically, integrals are defined as sums of rectangles, but this makes less sense when looking at polar regions. Let's look at one:"
   ]
  },
  {
   "cell_type": "code",
   "execution_count": null,
   "id": "391b4b9f",
   "metadata": {},
   "outputs": [],
   "source": [
    "# diagram of a circle with some polar rectangles"
   ]
  },
  {
   "cell_type": "markdown",
   "id": "ab893475",
   "metadata": {},
   "source": [
    "Each of the small regions in the diagram above has some of the properties of a rectangle. The distance from the curves defining the top and bottom to the origin is constant, and the angle between the lines defining the sides is also constant. "
   ]
  }
 ],
 "metadata": {
  "kernelspec": {
   "display_name": "Python 3 (ipykernel)",
   "language": "python",
   "name": "python3"
  },
  "language_info": {
   "codemirror_mode": {
    "name": "ipython",
    "version": 3
   },
   "file_extension": ".py",
   "mimetype": "text/x-python",
   "name": "python",
   "nbconvert_exporter": "python",
   "pygments_lexer": "ipython3",
   "version": "3.11.1"
  }
 },
 "nbformat": 4,
 "nbformat_minor": 5
}
