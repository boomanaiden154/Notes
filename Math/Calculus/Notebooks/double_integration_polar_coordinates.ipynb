{
 "cells": [
  {
   "cell_type": "markdown",
   "id": "d20355a4",
   "metadata": {},
   "source": [
    "# Double Integration in Polar Coordinates\n",
    "While over the past three articles, we've seen that double integration over cartesian coordinates is a useful and powerful tool, sometimes these integrals can be difficult to evaluate in their cartesian form. Integrating in polar coordinates by converting a cartesian double integral to its polar form or simply expressing the problem in terms of polar coordinates. Typically, integrals are defined as sums of rectangles, but this makes less sense when looking at polar regions. Let's look at one:"
   ]
  },
  {
   "cell_type": "code",
   "execution_count": null,
   "id": "391b4b9f",
   "metadata": {},
   "outputs": [],
   "source": [
    "# diagram of a circle with some polar rectangles"
   ]
  },
  {
   "cell_type": "markdown",
   "id": "ab893475",
   "metadata": {},
   "source": [
    "Each of the small regions in the diagram above has some of the properties of a rectangle, namely the distance from the origin of the top and bottom curves being constant, and the angle between the lines making up the sides also being constant. Given these objects are somewhat analogous to rectangles in polar coordinates, we call them polar rectangles. Let's start by finding the area of a polar rectangle. Consider the following diagram:"
   ]
  },
  {
   "cell_type": "code",
   "execution_count": 1,
   "id": "918d2255",
   "metadata": {},
   "outputs": [],
   "source": [
    "# diagram of a single wedge with different areas marked"
   ]
  },
  {
   "cell_type": "markdown",
   "id": "01680d45",
   "metadata": {},
   "source": [
    "As seen in the diagram, if we take the area of the whole wedge and then subtract from that the area of the inner wedge, we will get the area of the polar rectangle that we want:\n",
    "$$\\text{area of a wedge shaped sector} = \\frac{\\theta}{2\\pi}\\pi r^2=\\frac{1}{2}\\theta r^2$$\n",
    "So if we take the angle between the edges to be $\\theta$, the radius of the inner curve to be $r_1$, and the radius of the outer curve to be $r_2$, we get the following formulas:\n",
    "$$\\text{area of the inner wedge} = \\frac{1}{2}\\theta {r_1}^2$$\n",
    "$$\\text{area of the outer wedge} = \\frac{1}{2}\\theta {r_2}^2$$\n",
    "Subtracting the area of the outer edge from that of the inner wedge:\n",
    "$$\\text{area of the polar rectangle} = \\left ( \\frac{1}{2}\\theta {r_2}^2 \\right ) - \\left ( \\frac{1}{2}\\theta {r_1}^2 \\right )$$\n",
    "This formula is somewhat useful, but doesn't really lead to us our definition of the double integral for integrating over polar functions. For that, let's introduce a couple new variables. Suppose $\\Delta A_k$ is the area of some kth polar rectangle, and then suppose $r_k$ is the average of the inner and outer radius of this polar rectangle. If we suppose that $\\Delta r = r_2 - r_1$ (the difference of the inner and outer radii), we can say the following:\n",
    "$$r_1 = r_k - \\frac{\\Delta r}{2}$$\n",
    "$$r_2 = r_k + \\frac{\\Delta r}{2}$$\n",
    "Using $\\Delta \\theta$ as the notion for the angle between the curves and plugging into the previous area formula, we get the following:\n",
    "$$\\left ( \\frac{1}{2}\\Delta \\theta \\left ( r_k + \\frac{\\Delta r}{2} \\right )^2 \\right ) - \\left ( \\frac{1}{2}\\Delta \\theta \\left ( r_k - \\frac{\\Delta r}{2} \\right )^2 \\right )$$\n",
    "$$\\implies \\frac{\\Delta \\theta}{2} \\left ( \\left ( r_k + \\frac{\\Delta r}{2} \\right )^2 - \\left ( r_k - \\frac{\\Delta r}{2} \\right )^2 \\right )$$\n",
    "$$\\implies \\frac{\\Delta \\theta}{2} \\left ( {r_k}^2 + 2{r_k}\\frac{\\Delta r}{2} + \\frac{{\\Delta r}^2}{4} - {r_k}^2 + 2{r_k}\\frac{\\Delta r}{2} - \\frac{{\\Delta r}^2}{4} \\right )$$\n",
    "$$\\implies \\frac{\\Delta \\theta}{2} \\left ( 4{r_k}\\frac{\\Delta r}{2} \\right )$$\n",
    "$$\\implies \\frac{\\Delta \\theta}{2} \\left ( 2{r_k}\\Delta r \\right )$$\n",
    "$$\\implies \\Delta \\theta {r_k} \\Delta r$$\n",
    "Now, let's say we want to write a partial sum to estimate the area of a polar function, $f(r_k, \\theta_k)$, over a polar region $R$, we can do this like follows:\n",
    "$$S_n=\\sum_{k=1}^{n}f(r_k,\\theta_k)\\Delta A_k$$\n",
    "However, when we try and turn this into an integral, we just get the following:\n",
    "$$S_n \\approx \\iint_{R}f(r_k,\\theta_k)dA$$\n",
    "However, this isn't very helpful since we don't what $dA$ is. But since we know what $A_k$ is based on our work earlier, we can transform the partial sum into the following:\n",
    "$$S_n=\\sum_{k=1}^{n}f(r_k,\\theta_k)\\Delta \\theta {r_k} \\Delta r$$\n",
    "We can rewrite the limit of this partial sum into a useful iterated integral:\n",
    "$$\\lim_{n \\to \\infty}S_n=\\iint_{R}f(r_k,\\theta_k)r d\\theta dr$$\n",
    "Using a theorem from our good old friend Fubini, we can again transform this double integral into two successive single integrations:\n",
    "$$\\iint_{R}f(r_k,\\theta_k)r d\\theta dr=\\int_{\\theta=\\alpha}^{\\theta=\\beta}\\int_{r=g_1(\\theta)}^{r=g_2(\\theta)}f(r, \\theta)rdrd\\theta$$"
   ]
  },
  {
   "cell_type": "markdown",
   "id": "de724b0b",
   "metadata": {},
   "source": [
    "### Example\n",
    "Let's try and find the volume between the XY plane and the function $f(r,\\theta)=\\text{something}$ in the wedge from $\\theta=\\pi/4$ to \\theta=$3\\pi/4$ between the radii $r=1$ and $r=3$."
   ]
  },
  {
   "cell_type": "markdown",
   "id": "4585f41f",
   "metadata": {},
   "source": [
    "### Double Integrals over Polar Coordinates to Calculate Area\n",
    "Similar to how we can use double integrals over 2D cartesian space to calculate area, we can calulate area using double polar integrals in a similar manner. If we hold $f(r,\\theta)$ within the integral constant to get rid of the volume calculation like we did for cartesian space, we get the following expression:\n",
    "$$\\iint_{R}rdrd\\theta$$"
   ]
  },
  {
   "cell_type": "markdown",
   "id": "65bdda96",
   "metadata": {},
   "source": [
    "### Example\n",
    "To show that this formula is consistent with all previous volume formulas, we will consider the case of the volume of a circle. We know that it is $\\pi r^2$, and the integral should be equivalent. First off, we need to figure out our bounds. Since we're going through the whole circle, our start and end angles, $\\alpha$ and $\\beta$ respectively, are $0$ and $2\\pi$. And again since this is a circle, we can set our inner radius to be $0$, and our outer radius to be $r$, the radius of the circle. This gives us the following:\n",
    "$$\\iint_{R}rdrd\\theta=\\int_{0}^{2\\pi}\\int_{0}^{r}rdrd\\theta$$\n",
    "Evaluating the inner integral yields the following:\n",
    "$$\\int_{0}^{r}rdr=\\frac{1}{2}r^2\\bigg \\rvert_{0}^{r}=\\frac{1}{2}r^2$$\n",
    "Then plugging this into the outer integral:\n",
    "$$\\int_{0}^{2\\pi}\\frac{1}{2}r^2d\\theta=\\left (\\frac{\\theta}{2}r^2 \\right ) \\bigg \\rvert_{0}^{2\\pi}$$\n",
    "$$\\implies \\frac{2\\pi}{2}r^2-\\frac{0}{2}r^3=\\pi r^2$$"
   ]
  },
  {
   "cell_type": "markdown",
   "id": "6f914b57",
   "metadata": {},
   "source": [
    "### Transforming Cartesian Double Integrals into Polar Double Integrals\n",
    "Sometimes it can be extremely difficult (or basically impossible) to evaluate an integral over cartesian space, but feasible to evaluate over polar space. This means that converting an integral from cartesian space to polar space is a useful technique. This can be done noting that $x=r\\cos{\\theta}$ and that $y=r\\sin{\\theta}$. Using these two expressions to convert an integral:\n",
    "$$\\iint_{R}f(x,y)dx dy = \\iint_{G}f(r\\cos{\\theta}, r\\sin{\\theta})rdrd\\theta$$\n",
    "Note also that the regions are different. $R$ is the region over cartesian space and $G$ is the region over polar space."
   ]
  },
  {
   "cell_type": "markdown",
   "id": "8dd5ad98",
   "metadata": {},
   "source": [
    "### Example\n",
    "As an example, let's look at the following integral over the unit circle in the first and second quadrants:\n",
    "$$\\iint_{R}e^{x^2+y^2}dA$$\n",
    "We can define the interval $R$ as being between the x-axis and the curve defined by the equation $y=\\sqrt{1-x^2}$. Or more in terms of integration, we can say that the region is defined over the x-interval $[0,1]$, and the y-intervl $[0, \\sqrt{1-x^2}]$. Let's try and put this together into an integral over cartesian space:\n",
    "$$\\iint_{R}e^{x^2+y^2}dA=\\int_{0}^{1}\\int_{0}^{\\sqrt{1-x^2}}e^{x^2+y^2}dydx$$\n",
    "Now if we even look at trying to evaluate the inner integral, we can see that it will be quite difficult, and it is in fact impossible with elementary functions. Now, let's look at turning it into an integral over polar space:\n",
    "$$f(x,y)=e^{x^2+y^2}\\implies f(r,\\theta)=e^{(r\\cos{\\theta})^2+(r\\sin{\\theta})^2}$$\n",
    "$$\\implies e^{r^2\\cos^2{\\theta}+r^2\\sin^2{\\theta}}$$\n",
    "$$\\implies e^{r^2(\\cos^2{\\theta}+r^2\\sin^2{\\theta})}$$\n",
    "$$\\implies e^{r^2}$$\n",
    "Now that we know the formula for the polar form of the function, $f(r, \\theta)=e^{r^2}$, we have to find the bounds of the region in polar form. Since it's the unit circle, we know that $0 \\le r \\le 1$. Since we're integrating only over the first two quadrants, we also know that we can bound $\\theta$ as $0 \\le \\theta \\le \\pi$. Writing this out in the form of an integral:\n",
    "$$\\iint_{G}e^{r^2}dA=\\int_{0}^{\\pi}\\int_{0}^{1}e^{r^2}rdrd\\theta$$\n",
    "Evaluating the inner integral:\n",
    "$$\\int_{0}^{1}e^{r^2}rdr$$\n",
    "First, we need to do a $u$-substitution. Let's chose $u=r^2$. Then $du=2rdr$, which implies $dr=\\frac{du}{2r}$. Our bounds of integration remain unchanged since $0^2=0$ and $1^2=1$. Plugging this back into the original expression:\n",
    "$$\\int_{0}^{1}e^{r^2}rdr=\\int_{0}^{1}\\frac{1}{2}e^udu=\\frac{1}{2}e^u\\big \\rvert_{u=0}^{u=1}=\\frac{1}{2}e^1-\\frac{1}{2}e^0=\\frac{1}{2}(e-1)$$\n",
    "Now plugging this into the outer integral:\n",
    "$$\\int_{0}^{\\pi}\\frac{1}{2}(e-1)d\\theta=\\frac{1}{2}\\theta(e-1)\\big \\rvert_{0}^{\\pi}=\\frac{\\pi}{2}(e-1)$$"
   ]
  }
 ],
 "metadata": {
  "kernelspec": {
   "display_name": "Python 3 (ipykernel)",
   "language": "python",
   "name": "python3"
  },
  "language_info": {
   "codemirror_mode": {
    "name": "ipython",
    "version": 3
   },
   "file_extension": ".py",
   "mimetype": "text/x-python",
   "name": "python",
   "nbconvert_exporter": "python",
   "pygments_lexer": "ipython3",
   "version": "3.11.1"
  }
 },
 "nbformat": 4,
 "nbformat_minor": 5
}
